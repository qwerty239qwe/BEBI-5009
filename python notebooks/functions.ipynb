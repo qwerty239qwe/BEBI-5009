{
 "cells": [
  {
   "cell_type": "markdown",
   "metadata": {},
   "source": [
    "# Function definition and invokation"
   ]
  },
  {
   "cell_type": "code",
   "execution_count": null,
   "metadata": {},
   "outputs": [],
   "source": [
    "# Function without arguments nor return values\n",
    "def greeting():\n",
    "    print(\"Hello world\")\n",
    "\n",
    "greeting()"
   ]
  },
  {
   "cell_type": "code",
   "execution_count": null,
   "metadata": {},
   "outputs": [],
   "source": [
    "# Function with arguments (inputs) and one return value\n",
    "def discriminant(a, b, c):\n",
    "    \"\"\"\n",
    "    Calculates the discriminant of ax^2 + bx + c = 0\n",
    "    \"\"\"\n",
    "    return b**2 - 4*a*c\n",
    "\n",
    "discriminant(1, 2, 1)"
   ]
  },
  {
   "cell_type": "code",
   "execution_count": null,
   "metadata": {
    "scrolled": false
   },
   "outputs": [],
   "source": [
    "# Function with multiple arguments and multiple return values\n",
    "def rhs(y, k0, k1, km1, k2):\n",
    "    \"\"\"\n",
    "    Rate of change of chemical species  \"-> A <-> B ->\" \n",
    "    y is a two-element vector [a, b]\n",
    "    \"\"\"\n",
    "    a = y[0]\n",
    "    b = y[1]\n",
    "    a_dot = k0 + b * km1 - a * k1\n",
    "    b_dot = a * k1 -  b * (km1 + k2)\n",
    "    return [a_dot, b_dot]\n",
    "\n",
    "k0, k1, km1, k2 = 2, 7, 5, 1\n",
    "\n",
    "# Functions are 1st-class objects in Python\n",
    "# Using lamda to make a brief fuction object\n",
    "# Using the adapter pattern\n",
    "rhs_for_scipy = lambda t, y: rhs(y, k0, k1, km1, k2)\n",
    "\n",
    "from scipy.integrate import solve_ivp\n",
    "# functions, tuples, lists could be passed as long as they meet the requirements\n",
    "solution = solve_ivp(rhs_for_scipy, (0, 5), [10, 0])"
   ]
  },
  {
   "cell_type": "code",
   "execution_count": null,
   "metadata": {},
   "outputs": [],
   "source": [
    "# Just to show the trajectory of the solution above, plotting will be taught later\n",
    "import matplotlib.pyplot as plt\n",
    "%matplotlib inline\n",
    "plt.plot(solution.t, solution.y.T)"
   ]
  },
  {
   "cell_type": "markdown",
   "metadata": {},
   "source": [
    "# Funcion default arguments and keyword arguments"
   ]
  },
  {
   "cell_type": "code",
   "execution_count": 17,
   "metadata": {},
   "outputs": [
    {
     "data": {
      "text/plain": [
       "1.2"
      ]
     },
     "execution_count": 17,
     "metadata": {},
     "output_type": "execute_result"
    }
   ],
   "source": [
    "def divide(x, y=5):\n",
    "    return x/y\n",
    "\n",
    "divide(6)"
   ]
  },
  {
   "cell_type": "code",
   "execution_count": 18,
   "metadata": {},
   "outputs": [
    {
     "data": {
      "text/plain": [
       "2.0"
      ]
     },
     "execution_count": 18,
     "metadata": {},
     "output_type": "execute_result"
    }
   ],
   "source": [
    "divide(6, 3)"
   ]
  },
  {
   "cell_type": "code",
   "execution_count": 19,
   "metadata": {},
   "outputs": [
    {
     "data": {
      "text/plain": [
       "0.2"
      ]
     },
     "execution_count": 19,
     "metadata": {},
     "output_type": "execute_result"
    }
   ],
   "source": [
    "divide(y=5, x=1)"
   ]
  },
  {
   "cell_type": "markdown",
   "metadata": {},
   "source": [
    "# Variable length of arguments (More difficult)"
   ]
  },
  {
   "cell_type": "code",
   "execution_count": 24,
   "metadata": {},
   "outputs": [
    {
     "ename": "SyntaxError",
     "evalue": "invalid syntax (<ipython-input-24-5e8db6e11c53>, line 7)",
     "output_type": "error",
     "traceback": [
      "\u001b[1;36m  File \u001b[1;32m\"<ipython-input-24-5e8db6e11c53>\"\u001b[1;36m, line \u001b[1;32m7\u001b[0m\n\u001b[1;33m    **kwarg\u001b[0m\n\u001b[1;37m     ^\u001b[0m\n\u001b[1;31mSyntaxError\u001b[0m\u001b[1;31m:\u001b[0m invalid syntax\n"
     ]
    }
   ],
   "source": [
    "def foo(*arg, **kwargs):\n",
    "    print(type(arg))\n",
    "    print(arg)\n",
    "    print(*arg)\n",
    "    print(type(kwargs))\n",
    "    print(kwargs)\n",
    "    \n",
    "foo(1,2,3, x=0, y=42, z=3.14)"
   ]
  },
  {
   "cell_type": "code",
   "execution_count": null,
   "metadata": {},
   "outputs": [],
   "source": []
  }
 ],
 "metadata": {
  "kernelspec": {
   "display_name": "Python 3",
   "language": "python",
   "name": "python3"
  },
  "language_info": {
   "codemirror_mode": {
    "name": "ipython",
    "version": 3
   },
   "file_extension": ".py",
   "mimetype": "text/x-python",
   "name": "python",
   "nbconvert_exporter": "python",
   "pygments_lexer": "ipython3",
   "version": "3.6.4"
  }
 },
 "nbformat": 4,
 "nbformat_minor": 2
}
