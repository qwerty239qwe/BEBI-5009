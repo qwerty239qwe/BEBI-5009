{
 "cells": [
  {
   "cell_type": "markdown",
   "metadata": {},
   "source": [
    "# The first step: Import numpy"
   ]
  },
  {
   "cell_type": "code",
   "execution_count": 1,
   "metadata": {},
   "outputs": [],
   "source": [
    "import numpy as np"
   ]
  },
  {
   "cell_type": "markdown",
   "metadata": {},
   "source": [
    "# Array creation by existing sequence"
   ]
  },
  {
   "cell_type": "code",
   "execution_count": 3,
   "metadata": {},
   "outputs": [
    {
     "data": {
      "text/plain": [
       "array([ 1,  2,  3,  4, 42])"
      ]
     },
     "execution_count": 3,
     "metadata": {},
     "output_type": "execute_result"
    }
   ],
   "source": [
    "np.array([1, 2, 3, 4, 42])"
   ]
  },
  {
   "cell_type": "markdown",
   "metadata": {},
   "source": [
    "# Array creation from commonly-used functions\n",
    "## arange() : similar to range()"
   ]
  },
  {
   "cell_type": "code",
   "execution_count": 4,
   "metadata": {
    "scrolled": true
   },
   "outputs": [
    {
     "data": {
      "text/plain": [
       "array([100,  99,  98,  97,  96,  95,  94,  93,  92,  91,  90,  89,  88,\n",
       "        87,  86,  85,  84,  83,  82,  81,  80,  79,  78,  77,  76,  75,\n",
       "        74,  73,  72,  71,  70,  69,  68,  67,  66,  65,  64,  63,  62,\n",
       "        61,  60,  59,  58,  57,  56,  55,  54,  53,  52,  51,  50,  49,\n",
       "        48,  47,  46,  45,  44,  43,  42,  41,  40,  39,  38,  37,  36,\n",
       "        35,  34,  33,  32,  31,  30,  29,  28,  27,  26,  25,  24,  23,\n",
       "        22,  21,  20,  19,  18,  17,  16,  15,  14,  13,  12,  11,  10,\n",
       "         9,   8,   7,   6,   5,   4,   3,   2,   1])"
      ]
     },
     "execution_count": 4,
     "metadata": {},
     "output_type": "execute_result"
    }
   ],
   "source": [
    "np.arange(100, 0, -1)"
   ]
  },
  {
   "cell_type": "markdown",
   "metadata": {},
   "source": [
    "## linspace() / logspace()"
   ]
  },
  {
   "cell_type": "code",
   "execution_count": 5,
   "metadata": {},
   "outputs": [
    {
     "data": {
      "text/plain": [
       "array([0. , 0.1, 0.2, 0.3, 0.4, 0.5, 0.6, 0.7, 0.8, 0.9, 1. , 1.1, 1.2,\n",
       "       1.3, 1.4, 1.5, 1.6, 1.7, 1.8, 1.9, 2. , 2.1, 2.2, 2.3, 2.4, 2.5,\n",
       "       2.6, 2.7, 2.8, 2.9, 3. , 3.1, 3.2, 3.3, 3.4, 3.5, 3.6, 3.7, 3.8,\n",
       "       3.9, 4. , 4.1, 4.2, 4.3, 4.4, 4.5, 4.6, 4.7, 4.8, 4.9])"
      ]
     },
     "execution_count": 5,
     "metadata": {},
     "output_type": "execute_result"
    }
   ],
   "source": [
    "np.linspace(0, 5, endpoint=False)"
   ]
  },
  {
   "cell_type": "code",
   "execution_count": 6,
   "metadata": {},
   "outputs": [
    {
     "data": {
      "text/plain": [
       "array([1.00000000e-10, 2.55954792e-10, 6.55128557e-10, 1.67683294e-09,\n",
       "       4.29193426e-09, 1.09854114e-08, 2.81176870e-08, 7.19685673e-08,\n",
       "       1.84206997e-07, 4.71486636e-07, 1.20679264e-06, 3.08884360e-06,\n",
       "       7.90604321e-06, 2.02358965e-05, 5.17947468e-05, 1.32571137e-04,\n",
       "       3.39322177e-04, 8.68511374e-04, 2.22299648e-03, 5.68986603e-03,\n",
       "       1.45634848e-02, 3.72759372e-02, 9.54095476e-02, 2.44205309e-01,\n",
       "       6.25055193e-01, 1.59985872e+00, 4.09491506e+00, 1.04811313e+01,\n",
       "       2.68269580e+01, 6.86648845e+01, 1.75751062e+02, 4.49843267e+02,\n",
       "       1.15139540e+03, 2.94705170e+03, 7.54312006e+03, 1.93069773e+04,\n",
       "       4.94171336e+04, 1.26485522e+05, 3.23745754e+05, 8.28642773e+05,\n",
       "       2.12095089e+06, 5.42867544e+06, 1.38949549e+07, 3.55648031e+07,\n",
       "       9.10298178e+07, 2.32995181e+08, 5.96362332e+08, 1.52641797e+09,\n",
       "       3.90693994e+09, 1.00000000e+10])"
      ]
     },
     "execution_count": 6,
     "metadata": {},
     "output_type": "execute_result"
    }
   ],
   "source": [
    "np.logspace(np.log10(1e-10), np.log10(1e10))  # log() is natural log !!!"
   ]
  },
  {
   "cell_type": "markdown",
   "metadata": {},
   "source": [
    "## zeros / ones"
   ]
  },
  {
   "cell_type": "code",
   "execution_count": 5,
   "metadata": {},
   "outputs": [
    {
     "data": {
      "text/plain": [
       "array([0., 0., 0., 0., 0., 0., 0., 0., 0., 0.])"
      ]
     },
     "execution_count": 5,
     "metadata": {},
     "output_type": "execute_result"
    }
   ],
   "source": [
    "np.zeros(10)"
   ]
  },
  {
   "cell_type": "code",
   "execution_count": 6,
   "metadata": {},
   "outputs": [
    {
     "data": {
      "text/plain": [
       "array([[0., 0.],\n",
       "       [0., 0.],\n",
       "       [0., 0.],\n",
       "       [0., 0.],\n",
       "       [0., 0.],\n",
       "       [0., 0.],\n",
       "       [0., 0.],\n",
       "       [0., 0.],\n",
       "       [0., 0.],\n",
       "       [0., 0.]])"
      ]
     },
     "execution_count": 6,
     "metadata": {},
     "output_type": "execute_result"
    }
   ],
   "source": [
    "np.zeros((10, 2))"
   ]
  },
  {
   "cell_type": "markdown",
   "metadata": {},
   "source": [
    "## random submodule"
   ]
  },
  {
   "cell_type": "code",
   "execution_count": 7,
   "metadata": {},
   "outputs": [
    {
     "data": {
      "text/plain": [
       "array([[0.20563344, 0.91189162],\n",
       "       [0.64101911, 0.14032539],\n",
       "       [0.0759389 , 0.93345143],\n",
       "       [0.873281  , 0.64988287],\n",
       "       [0.81222007, 0.74956214],\n",
       "       [0.73604643, 0.08513379],\n",
       "       [0.14661282, 0.7087381 ],\n",
       "       [0.24017908, 0.47810499],\n",
       "       [0.45425305, 0.94162618],\n",
       "       [0.52220707, 0.70381608]])"
      ]
     },
     "execution_count": 7,
     "metadata": {},
     "output_type": "execute_result"
    }
   ],
   "source": [
    "np.random.random((10, 2))"
   ]
  },
  {
   "cell_type": "code",
   "execution_count": 8,
   "metadata": {},
   "outputs": [
    {
     "data": {
      "text/plain": [
       "array([4, 1, 5, 6, 6, 6, 3, 6, 4, 5])"
      ]
     },
     "execution_count": 8,
     "metadata": {},
     "output_type": "execute_result"
    }
   ],
   "source": [
    "np.random.randint(1, 7, size=(10,))"
   ]
  },
  {
   "cell_type": "code",
   "execution_count": 2,
   "metadata": {},
   "outputs": [
    {
     "data": {
      "text/plain": [
       "array([ 1, -1, -1, -1, -1,  1, -1,  1,  1,  1,  1, -1, -1,  1,  1, -1, -1,\n",
       "       -1, -1,  1,  1, -1, -1,  1, -1,  1,  1, -1, -1,  1, -1, -1, -1,  1,\n",
       "        1, -1,  1,  1, -1,  1, -1,  1,  1, -1,  1,  1, -1, -1,  1, -1,  1,\n",
       "       -1,  1, -1, -1,  1, -1,  1,  1, -1,  1, -1, -1, -1, -1, -1,  1,  1,\n",
       "        1, -1, -1, -1,  1, -1,  1,  1,  1, -1, -1, -1, -1,  1,  1,  1, -1,\n",
       "       -1,  1, -1, -1, -1, -1,  1, -1,  1,  1,  1,  1, -1,  1, -1])"
      ]
     },
     "execution_count": 2,
     "metadata": {},
     "output_type": "execute_result"
    }
   ],
   "source": [
    "np.random.choice([1, -1], size=(100,))"
   ]
  },
  {
   "cell_type": "markdown",
   "metadata": {},
   "source": [
    "## mgrid : meshgrid"
   ]
  },
  {
   "cell_type": "code",
   "execution_count": 11,
   "metadata": {},
   "outputs": [
    {
     "name": "stdout",
     "output_type": "stream",
     "text": [
      "[[0 0 0]\n",
      " [1 1 1]\n",
      " [2 2 2]]\n",
      "[[0 1 2]\n",
      " [0 1 2]\n",
      " [0 1 2]]\n"
     ]
    }
   ],
   "source": [
    "xx, yy = np.mgrid[0:3, 0:3]  # It's indexing notation [], not the function one ()\n",
    "# short-hand of xx, yy = np.meshgrid(np.arange(0, 3), np.arange(0, 3))\n",
    "print(xx)\n",
    "print(yy)"
   ]
  },
  {
   "cell_type": "code",
   "execution_count": 4,
   "metadata": {
    "scrolled": true
   },
   "outputs": [
    {
     "name": "stdout",
     "output_type": "stream",
     "text": [
      "[[0.         0.25       0.5        0.75       1.        ]\n",
      " [0.         0.24222811 0.48445621 0.72668432 0.96891242]\n",
      " [0.         0.21939564 0.43879128 0.65818692 0.87758256]\n",
      " [0.         0.18292222 0.36584443 0.54876665 0.73168887]\n",
      " [0.         0.13507558 0.27015115 0.40522673 0.54030231]]\n"
     ]
    }
   ],
   "source": [
    "xx, yy = np.mgrid[0:1:5j, 0:1:5j] # Imaginary step = # of points\n",
    "# short-hand of xx, yy = np.meshgrid(np.linspace(0, 1, 50), np.linspace(0, 1, 50))\n",
    "print(np.cos(xx) * yy)"
   ]
  },
  {
   "cell_type": "markdown",
   "metadata": {},
   "source": [
    "## Reshape"
   ]
  },
  {
   "cell_type": "code",
   "execution_count": 12,
   "metadata": {},
   "outputs": [
    {
     "data": {
      "text/plain": [
       "array([[ 0,  1,  2,  3,  4],\n",
       "       [ 5,  6,  7,  8,  9],\n",
       "       [10, 11, 12, 13, 14],\n",
       "       [15, 16, 17, 18, 19],\n",
       "       [20, 21, 22, 23, 24]])"
      ]
     },
     "execution_count": 12,
     "metadata": {},
     "output_type": "execute_result"
    }
   ],
   "source": [
    "np.arange(0, 25).reshape((5, 5))"
   ]
  },
  {
   "cell_type": "code",
   "execution_count": 13,
   "metadata": {},
   "outputs": [
    {
     "data": {
      "text/plain": [
       "array([[ 0,  1,  2,  3,  4,  5,  6,  7],\n",
       "       [ 8,  9, 10, 11, 12, 13, 14, 15],\n",
       "       [16, 17, 18, 19, 20, 21, 22, 23]])"
      ]
     },
     "execution_count": 13,
     "metadata": {},
     "output_type": "execute_result"
    }
   ],
   "source": [
    "np.arange(0, 24).reshape((3, -1))  # -1 : auto-decide"
   ]
  },
  {
   "cell_type": "markdown",
   "metadata": {},
   "source": [
    "# Array attributes (no parentheses!)"
   ]
  },
  {
   "cell_type": "markdown",
   "metadata": {},
   "source": [
    "## Shape"
   ]
  },
  {
   "cell_type": "code",
   "execution_count": 14,
   "metadata": {
    "scrolled": true
   },
   "outputs": [
    {
     "data": {
      "text/plain": [
       "(5, 5)"
      ]
     },
     "execution_count": 14,
     "metadata": {},
     "output_type": "execute_result"
    }
   ],
   "source": [
    "a = np.arange(0, 25).reshape((5, 5))\n",
    "a.shape"
   ]
  },
  {
   "cell_type": "code",
   "execution_count": 16,
   "metadata": {},
   "outputs": [
    {
     "data": {
      "text/plain": [
       "(100,)"
      ]
     },
     "execution_count": 16,
     "metadata": {},
     "output_type": "execute_result"
    }
   ],
   "source": [
    "b = np.linspace(0, 10, 100)\n",
    "b.shape"
   ]
  },
  {
   "cell_type": "markdown",
   "metadata": {},
   "source": [
    "## Data type"
   ]
  },
  {
   "cell_type": "code",
   "execution_count": 15,
   "metadata": {},
   "outputs": [
    {
     "data": {
      "text/plain": [
       "dtype('int32')"
      ]
     },
     "execution_count": 15,
     "metadata": {},
     "output_type": "execute_result"
    }
   ],
   "source": [
    "a.dtype"
   ]
  },
  {
   "cell_type": "code",
   "execution_count": 17,
   "metadata": {
    "scrolled": true
   },
   "outputs": [
    {
     "data": {
      "text/plain": [
       "dtype('float64')"
      ]
     },
     "execution_count": 17,
     "metadata": {},
     "output_type": "execute_result"
    }
   ],
   "source": [
    "b.dtype"
   ]
  },
  {
   "cell_type": "markdown",
   "metadata": {},
   "source": [
    "# Array arithmetic\n",
    "## Element-wise operations"
   ]
  },
  {
   "cell_type": "code",
   "execution_count": 30,
   "metadata": {
    "scrolled": false
   },
   "outputs": [
    {
     "data": {
      "text/plain": [
       "array([[2, 3, 4, 5],\n",
       "       [6, 7, 8, 9]])"
      ]
     },
     "execution_count": 30,
     "metadata": {},
     "output_type": "execute_result"
    }
   ],
   "source": [
    "a = np.array([[1, 2, 3, 4], \n",
    "              [5, 6, 7, 8]])\n",
    "a + 1"
   ]
  },
  {
   "cell_type": "code",
   "execution_count": 31,
   "metadata": {},
   "outputs": [
    {
     "data": {
      "text/plain": [
       "array([[ 6, 12, 18, 24],\n",
       "       [30, 36, 42, 48]])"
      ]
     },
     "execution_count": 31,
     "metadata": {},
     "output_type": "execute_result"
    }
   ],
   "source": [
    "a * 6"
   ]
  },
  {
   "cell_type": "code",
   "execution_count": 32,
   "metadata": {},
   "outputs": [
    {
     "data": {
      "text/plain": [
       "array([[ 1,  4,  9, 16],\n",
       "       [25, 36, 49, 64]], dtype=int32)"
      ]
     },
     "execution_count": 32,
     "metadata": {},
     "output_type": "execute_result"
    }
   ],
   "source": [
    "a**2"
   ]
  },
  {
   "cell_type": "code",
   "execution_count": null,
   "metadata": {},
   "outputs": [],
   "source": [
    "b = a - 1\n",
    "print(a)"
   ]
  },
  {
   "cell_type": "code",
   "execution_count": null,
   "metadata": {},
   "outputs": [],
   "source": [
    "print(b)"
   ]
  },
  {
   "cell_type": "code",
   "execution_count": null,
   "metadata": {},
   "outputs": [],
   "source": [
    "print(a+b)"
   ]
  },
  {
   "cell_type": "code",
   "execution_count": null,
   "metadata": {},
   "outputs": [],
   "source": [
    "print(a*b) # Element-wise multiplication"
   ]
  },
  {
   "cell_type": "code",
   "execution_count": 38,
   "metadata": {},
   "outputs": [
    {
     "name": "stdout",
     "output_type": "stream",
     "text": [
      "[[1 2 3 4]\n",
      " [5 6 7 8]]\n",
      "[[0 1 2 3]\n",
      " [4 5 6 7]]\n",
      "[[ 1  3  5  7]\n",
      " [ 9 11 13 15]]\n",
      "[[ 0  2  6 12]\n",
      " [20 30 42 56]]\n",
      "[[       inf 2.         1.5        1.33333333]\n",
      " [1.25       1.2        1.16666667 1.14285714]]\n"
     ]
    },
    {
     "name": "stderr",
     "output_type": "stream",
     "text": [
      "C:\\Users\\user\\Miniconda3\\envs\\teaching\\lib\\site-packages\\ipykernel_launcher.py:6: RuntimeWarning: divide by zero encountered in true_divide\n",
      "  \n"
     ]
    }
   ],
   "source": [
    "print(a/b) # Element-wise division (no exception even divide by 0, warnings only)"
   ]
  },
  {
   "cell_type": "code",
   "execution_count": 40,
   "metadata": {
    "scrolled": true
   },
   "outputs": [
    {
     "data": {
      "text/plain": [
       "array([[False, False, False,  True],\n",
       "       [ True,  True,  True,  True]])"
      ]
     },
     "execution_count": 40,
     "metadata": {},
     "output_type": "execute_result"
    }
   ],
   "source": [
    "biga = a > 3  # Logical statements => creates a boolean array\n",
    "biga"
   ]
  },
  {
   "cell_type": "markdown",
   "metadata": {},
   "source": [
    "## Dot product / matrix multiplication"
   ]
  },
  {
   "cell_type": "code",
   "execution_count": 61,
   "metadata": {},
   "outputs": [
    {
     "data": {
      "text/plain": [
       "0.6376036414867887"
      ]
     },
     "execution_count": 61,
     "metadata": {},
     "output_type": "execute_result"
    }
   ],
   "source": [
    "a = np.random.randint(1, 10, size = (3, 3))\n",
    "b = np.random.randint(1, 10, size = (3, 3))\n",
    "\n",
    "# Matrix multiplication: use dot() function\n",
    "a.dot(b)  # or np.dot(a, b\n",
    "\n",
    "c = np.random.random(5)\n",
    "d = np.random.random(5)\n",
    "\n",
    "# Dot product of two vectors (You don;t have to transpose the latter vector)\n",
    "c.dot(d)"
   ]
  },
  {
   "cell_type": "markdown",
   "metadata": {},
   "source": [
    "# In-place vs out-of-place operations"
   ]
  },
  {
   "cell_type": "code",
   "execution_count": 1,
   "metadata": {},
   "outputs": [
    {
     "ename": "NameError",
     "evalue": "name 'np' is not defined",
     "output_type": "error",
     "traceback": [
      "\u001b[1;31m---------------------------------------------------------------------------\u001b[0m",
      "\u001b[1;31mNameError\u001b[0m                                 Traceback (most recent call last)",
      "\u001b[1;32m<ipython-input-1-b148a60492e0>\u001b[0m in \u001b[0;36m<module>\u001b[1;34m()\u001b[0m\n\u001b[0;32m      4\u001b[0m     \u001b[1;32mreturn\u001b[0m \u001b[0ma\u001b[0m\u001b[1;33m\u001b[0m\u001b[0m\n\u001b[0;32m      5\u001b[0m \u001b[1;33m\u001b[0m\u001b[0m\n\u001b[1;32m----> 6\u001b[1;33m \u001b[0ma\u001b[0m \u001b[1;33m=\u001b[0m \u001b[0mnp\u001b[0m\u001b[1;33m.\u001b[0m\u001b[0marange\u001b[0m\u001b[1;33m(\u001b[0m\u001b[1;36m0\u001b[0m\u001b[1;33m,\u001b[0m \u001b[1;36m10\u001b[0m\u001b[1;33m)\u001b[0m\u001b[1;33m\u001b[0m\u001b[0m\n\u001b[0m\u001b[0;32m      7\u001b[0m \u001b[0mprint\u001b[0m\u001b[1;33m(\u001b[0m\u001b[1;34m\"Before:\"\u001b[0m\u001b[1;33m,\u001b[0m \u001b[0ma\u001b[0m\u001b[1;33m)\u001b[0m\u001b[1;33m\u001b[0m\u001b[0m\n\u001b[0;32m      8\u001b[0m \u001b[0mprint\u001b[0m\u001b[1;33m(\u001b[0m\u001b[1;34m\"set_zero() returns:\"\u001b[0m\u001b[1;33m,\u001b[0m \u001b[0mset_zero\u001b[0m\u001b[1;33m(\u001b[0m\u001b[0ma\u001b[0m\u001b[1;33m)\u001b[0m\u001b[1;33m)\u001b[0m\u001b[1;33m\u001b[0m\u001b[0m\n",
      "\u001b[1;31mNameError\u001b[0m: name 'np' is not defined"
     ]
    }
   ],
   "source": [
    "def set_zero(a):\n",
    "    \"\"\" This won't change the array due to redirection\"\"\"\n",
    "    a = np.zeros_like(a)  # assign an array of zeros with the same shape as a\n",
    "    return a\n",
    "\n",
    "a = np.arange(0, 10)\n",
    "print(\"Before:\", a)\n",
    "print(\"set_zero() returns:\", set_zero(a))\n",
    "print(\"After:\", a)\n",
    "\n",
    "\n",
    "def add_one(a):\n",
    "    \"\"\" This will change a by inplace operation\"\"\"\n",
    "    a += 1  # \n",
    "    return a\n",
    "\n",
    "print()\n",
    "print(\"Before:\", a)\n",
    "print(\"add_one() returns:\", add_one(a))\n",
    "print(\"After:\", a)\n",
    "\n",
    "\n",
    "\"\"\"\n",
    "To be sure, just do 'a = foo(a)'\n",
    "\"\"\""
   ]
  },
  {
   "cell_type": "markdown",
   "metadata": {},
   "source": [
    "# Select elements"
   ]
  },
  {
   "cell_type": "markdown",
   "metadata": {},
   "source": [
    "## Single selection : similar to lists"
   ]
  },
  {
   "cell_type": "code",
   "execution_count": 18,
   "metadata": {},
   "outputs": [
    {
     "name": "stdout",
     "output_type": "stream",
     "text": [
      "0.1\n",
      "[[ 0  1  2  3  4]\n",
      " [ 5  6  7  8  9]\n",
      " [10 11 12 13 14]\n",
      " [15 16 17 18 19]\n",
      " [20 21 22 23 24]]\n",
      "13\n"
     ]
    }
   ],
   "source": [
    "a = np.linspace(0, 1, 11)\n",
    "print(a[1])\n",
    "\n",
    "A = np.arange(0, 25).reshape((5, -1))\n",
    "print(A)\n",
    "print(A[2, 3])"
   ]
  },
  {
   "cell_type": "markdown",
   "metadata": {},
   "source": [
    "## Slices : similar to lists"
   ]
  },
  {
   "cell_type": "code",
   "execution_count": 20,
   "metadata": {},
   "outputs": [
    {
     "name": "stdout",
     "output_type": "stream",
     "text": [
      "[0.1 0.3 0.5 0.7 0.9]\n",
      "[[0 1]\n",
      " [5 6]]\n"
     ]
    }
   ],
   "source": [
    "b = a[1::2]\n",
    "print(b)\n",
    "B = A[:2, :2]\n",
    "print(B)"
   ]
  },
  {
   "cell_type": "code",
   "execution_count": 72,
   "metadata": {},
   "outputs": [
    {
     "name": "stdout",
     "output_type": "stream",
     "text": [
      "[0.2 0.4 0.6 0.8 1. ]\n",
      "[0.  0.2 0.2 0.4 0.4 0.6 0.6 0.8 0.8 1.  1. ]\n"
     ]
    }
   ],
   "source": [
    "b += 0.1  # b is a reference to a, so this will change a as well! Use copy to avoid surprises!\n",
    "print(b)\n",
    "print(a)"
   ]
  },
  {
   "cell_type": "markdown",
   "metadata": {},
   "source": [
    "## Selection by boolean arrays"
   ]
  },
  {
   "cell_type": "code",
   "execution_count": 57,
   "metadata": {},
   "outputs": [
    {
     "name": "stdout",
     "output_type": "stream",
     "text": [
      "even= [ True False  True False  True False  True False  True False  True False\n",
      "  True False  True False  True False  True False]\n",
      "[ 0  2  4  6  8 10 12 14 16 18]\n"
     ]
    }
   ],
   "source": [
    "a = np.arange(0, 20)\n",
    "even = (a%2 ==0)\n",
    "print('even=', even)\n",
    "print(a[even])"
   ]
  },
  {
   "cell_type": "markdown",
   "metadata": {},
   "source": [
    "## Selection by index numbers"
   ]
  },
  {
   "cell_type": "code",
   "execution_count": 59,
   "metadata": {},
   "outputs": [
    {
     "name": "stdout",
     "output_type": "stream",
     "text": [
      "[0.20408163 0.40816327 0.40816327 8.57142857 0.         0.6122449 ]\n"
     ]
    }
   ],
   "source": [
    "want_these = [1, 2, 2, 42, 0, 3]\n",
    "b = np.linspace(0, 10)\n",
    "print(b[want_these])"
   ]
  },
  {
   "cell_type": "markdown",
   "metadata": {},
   "source": [
    "# Other Array Manipulations"
   ]
  },
  {
   "cell_type": "markdown",
   "metadata": {},
   "source": [
    "## concatenate / stack"
   ]
  },
  {
   "cell_type": "code",
   "execution_count": 80,
   "metadata": {},
   "outputs": [
    {
     "data": {
      "text/plain": [
       "array([ 0,  1,  2,  3,  4,  5,  6,  7,  8,  9, 10, 11, 12, 13, 14, 15, 16,\n",
       "       17, 18, 19])"
      ]
     },
     "execution_count": 80,
     "metadata": {},
     "output_type": "execute_result"
    }
   ],
   "source": [
    "a = np.arange(0, 10)\n",
    "b = np.arange(0, 10) + 10\n",
    "np.concatenate((a, b), axis=0)"
   ]
  },
  {
   "cell_type": "code",
   "execution_count": 84,
   "metadata": {},
   "outputs": [
    {
     "data": {
      "text/plain": [
       "array([[ 0, 10],\n",
       "       [ 1, 11],\n",
       "       [ 2, 12],\n",
       "       [ 3, 13],\n",
       "       [ 4, 14],\n",
       "       [ 5, 15],\n",
       "       [ 6, 16],\n",
       "       [ 7, 17],\n",
       "       [ 8, 18],\n",
       "       [ 9, 19]])"
      ]
     },
     "execution_count": 84,
     "metadata": {},
     "output_type": "execute_result"
    }
   ],
   "source": [
    "np.stack((a, b), axis=1)"
   ]
  },
  {
   "cell_type": "markdown",
   "metadata": {},
   "source": [
    "## reduction: sum, cumsum"
   ]
  },
  {
   "cell_type": "code",
   "execution_count": 93,
   "metadata": {},
   "outputs": [
    {
     "data": {
      "text/plain": [
       "array([[0, 1, 2],\n",
       "       [3, 4, 5]])"
      ]
     },
     "execution_count": 93,
     "metadata": {},
     "output_type": "execute_result"
    }
   ],
   "source": [
    "a = np.arange(0, 6).reshape((2, 3))\n",
    "a"
   ]
  },
  {
   "cell_type": "code",
   "execution_count": 94,
   "metadata": {},
   "outputs": [
    {
     "data": {
      "text/plain": [
       "15"
      ]
     },
     "execution_count": 94,
     "metadata": {},
     "output_type": "execute_result"
    }
   ],
   "source": [
    "a.sum()"
   ]
  },
  {
   "cell_type": "code",
   "execution_count": 95,
   "metadata": {},
   "outputs": [
    {
     "data": {
      "text/plain": [
       "array([ 3, 12])"
      ]
     },
     "execution_count": 95,
     "metadata": {},
     "output_type": "execute_result"
    }
   ],
   "source": [
    "a.sum(axis=1)"
   ]
  },
  {
   "cell_type": "code",
   "execution_count": 96,
   "metadata": {},
   "outputs": [
    {
     "data": {
      "text/plain": [
       "array([3, 5, 7])"
      ]
     },
     "execution_count": 96,
     "metadata": {},
     "output_type": "execute_result"
    }
   ],
   "source": [
    "a.sum(axis=0)"
   ]
  },
  {
   "cell_type": "code",
   "execution_count": 97,
   "metadata": {},
   "outputs": [
    {
     "data": {
      "text/plain": [
       "array([ 0,  1,  3,  6, 10, 15], dtype=int32)"
      ]
     },
     "execution_count": 97,
     "metadata": {},
     "output_type": "execute_result"
    }
   ],
   "source": [
    "a.cumsum()"
   ]
  },
  {
   "cell_type": "code",
   "execution_count": 98,
   "metadata": {},
   "outputs": [
    {
     "data": {
      "text/plain": [
       "array([[ 0,  1,  3],\n",
       "       [ 3,  7, 12]], dtype=int32)"
      ]
     },
     "execution_count": 98,
     "metadata": {},
     "output_type": "execute_result"
    }
   ],
   "source": [
    "a.cumsum(axis=1)"
   ]
  },
  {
   "cell_type": "markdown",
   "metadata": {},
   "source": [
    "## Example: 2D random walk"
   ]
  },
  {
   "cell_type": "code",
   "execution_count": 15,
   "metadata": {},
   "outputs": [
    {
     "data": {
      "text/plain": [
       "[<matplotlib.lines.Line2D at 0x1fc5120fac8>]"
      ]
     },
     "execution_count": 15,
     "metadata": {},
     "output_type": "execute_result"
    },
    {
     "data": {
      "image/png": "[encoded data removed]",
      "text/plain": [
       "<matplotlib.figure.Figure at 0x1fc4f475e48>"
      ]
     },
     "metadata": {},
     "output_type": "display_data"
    },
    {
     "data": {
      "image/png": "[encoded data removed]",
      "text/plain": [
       "<matplotlib.figure.Figure at 0x1fc511eb048>"
      ]
     },
     "metadata": {},
     "output_type": "display_data"
    }
   ],
   "source": [
    "N_PARTICLES = 100\n",
    "N_STEPS = 1000\n",
    "STEP_SIZE = 1\n",
    "\n",
    "dx = np.random.choice([-STEP_SIZE, STEP_SIZE], size=(2, N_STEPS, N_PARTICLES))\n",
    "pos = dx.cumsum(axis=1)\n",
    "\n",
    "pos[0] -= pos[0, 0]\n",
    "pos[1] -= pos[1, 0]\n",
    "\n",
    "import matplotlib.pyplot as plt\n",
    "%matplotlib inline\n",
    "\n",
    "plt.figure()\n",
    "plt.plot(pos[0, :, 0], pos[1, :, 0])\n",
    "msd = np.mean(pos[0] ** 2 + pos[1] ** 2, axis=1)\n",
    "\n",
    "plt.figure()\n",
    "plt.plot(np.arange(msd.shape[0]), msd)"
   ]
  },
  {
   "cell_type": "markdown",
   "metadata": {},
   "source": [
    "## Example: Gillespie Algorithm"
   ]
  },
  {
   "cell_type": "code",
   "execution_count": 12,
   "metadata": {},
   "outputs": [
    {
     "data": {
      "text/plain": [
       "<matplotlib.legend.Legend at 0x1fc4f4e8d30>"
      ]
     },
     "execution_count": 12,
     "metadata": {},
     "output_type": "execute_result"
    },
    {
     "data": {
      "image/png": "[encoded data removed]",
      "text/plain": [
       "<matplotlib.figure.Figure at 0x1fc4f15bf28>"
      ]
     },
     "metadata": {},
     "output_type": "display_data"
    }
   ],
   "source": [
    "\"\"\"\n",
    "Stochastic chemical reaction: Gillespie Algorithm\n",
    "Adapted from: Chemical and Biomedical Enginnering Calculations Using Python Ch.4-3\n",
    "Reaction of A <-> B with rate constants k1 & k2\n",
    "\"\"\"\n",
    "\n",
    "import numpy as np\n",
    "import matplotlib.pyplot as plt\n",
    "\n",
    "k1 = 1.0 # forward rate constant\n",
    "k2 = 0.5 # reverse rate constant\n",
    "maxReact = 1000 # maximum number of reactions\n",
    "\n",
    "numA = np.zeros(maxReact)\n",
    "numB = np.zeros(maxReact)\n",
    "numA[0] = 175 # initial number of A’s\n",
    "numB[0] = 25 # initial number of B’s\n",
    "\n",
    "dt = -np.log(np.random.rand(maxReact))  # Randomized time stepping\n",
    "rxn = np.random.rand(maxReact)  # Randomized reaction selection\n",
    "\n",
    "for i in range(maxReact-1):\n",
    "    proB = k1 * numA[i] # probability weight of forming B\n",
    "    proA = k2 * numB[i] # probability weight of forming A\n",
    "    # calculate time till next reaction\n",
    "    dt[i] /= proB + proA\n",
    "    if rxn[i] < (proB /(proA+proB)):\n",
    "        # form B        \n",
    "        numA[i+1] = numA[i] - 1\n",
    "        numB[i+1] = numB[i] + 1\n",
    "    else:\n",
    "        # else we form A\n",
    "        numA[i+1] = numA[i] + 1\n",
    "        numB[i+1] = numB[i] - 1\n",
    "\n",
    "timePoints = np.cumsum(dt) - dt[0]\n",
    "\n",
    "# 現在只管欣賞，等下祐德會教\n",
    "plt.plot(timePoints, numA, label=\"A\")\n",
    "plt.plot(timePoints, numB, label=\"B\")\n",
    "plt.xlabel('time')\n",
    "plt.ylabel('number of molecules')\n",
    "plt.legend(loc='best')"
   ]
  },
  {
   "cell_type": "markdown",
   "metadata": {},
   "source": [
    "# Scipy tutorial"
   ]
  },
  {
   "cell_type": "markdown",
   "metadata": {},
   "source": [
    "## Initial value problem: using odeint to solve Hodgkin-Huxley model"
   ]
  },
  {
   "cell_type": "code",
   "execution_count": 29,
   "metadata": {},
   "outputs": [
    {
     "data": {
      "image/png": "[encoded data removed]",
      "text/plain": [
       "<matplotlib.figure.Figure at 0x1fc5277c978>"
      ]
     },
     "metadata": {},
     "output_type": "display_data"
    }
   ],
   "source": [
    "\"\"\"\n",
    "Hodgkin-Huxley model of excitable barnacle muscle fiber\n",
    "reviewed in Rinzel (1990) Bulletin of Mathematical Biology 52 pp. 5-23.\n",
    "Figure 1.9\n",
    "\"\"\"\n",
    "\n",
    "import numpy as np\n",
    "from scipy.integrate import solve_ivp\n",
    "import matplotlib.pyplot as plt\n",
    "from math import exp, expm1\n",
    "\n",
    "\n",
    "def hh_rhs(y, t, iStim):\n",
    "    # Constants\n",
    "    E_N = 55  # Reversal potential of Na\n",
    "    E_K = -72  # Reversal potential of K\n",
    "    E_LEAK = -49.0  # Reversal potential of leaky channels\n",
    "    G_N_BAR = 120.0  # Max. Na channel conductance\n",
    "    G_K_BAR = 36.0  # Max. K channel conductance\n",
    "    G_LEAK = 0.30  # Max. leak channel conductance\n",
    "    C_M = 1.0  # membrane capacitance\n",
    "\n",
    "    # Equations\n",
    "    v, m, h, n = y\n",
    "\n",
    "    mAlfaV = -0.10 * (v + 35)\n",
    "    mAlfa = mAlfaV / expm1(mAlfaV)\n",
    "    mBeta = 4.0 * exp(-(v + 60) / 18.0)\n",
    "    dmdt = -(mAlfa + mBeta) * m + mAlfa\n",
    "    \n",
    "    hAlfa = 0.07 * exp(-(v+60)/20)\n",
    "    hBeta = 1 / (exp(-(v+30)/10) + 1)\n",
    "    dhdt  = -(hAlfa + hBeta) * h + hAlfa\n",
    "    \n",
    "    iNa = G_N_BAR * (v - E_N) * (m**3) * h\n",
    "\n",
    "    nAlfaV = -0.1 * (v+50)\n",
    "    nAlfa = 0.1 * nAlfaV / expm1(nAlfaV)\n",
    "    nBeta = 0.125 * exp( -(v+60) / 80)\n",
    "    dndt  = -(nAlfa + nBeta) * n + nAlfa\n",
    "    \n",
    "    iK = G_K_BAR * (v - E_K) * (n**4)\n",
    "\n",
    "    iLeak = G_LEAK * (v - E_LEAK)\n",
    "    iSt = iStim(t)\n",
    "    dVdt = -(iNa + iK + iLeak + iSt) / C_M\n",
    "    return [dVdt, dmdt, dhdt, dndt]\n",
    "\n",
    "\n",
    "def get_iStim(t):\n",
    "    if 20 < t <= 21:\n",
    "        return -6.65\n",
    "    elif 60 < t <= 61:\n",
    "        return -6.86\n",
    "    else:\n",
    "        return 0\n",
    "\n",
    "\n",
    "# Initial conditions\n",
    "y0 = v, m, h, n = -59.8977, 0.0536, 0.5925, 0.3192\n",
    "tStart, tEnd = 0, 100\n",
    "N_POINTS = 100\n",
    "sol = solve_ivp(lambda t, y : hh_rhs(y, t, get_iStim), (tStart, tEnd), y0, method='LSODA')\n",
    "\n",
    "# 現在只管欣賞，等下祐德會教\n",
    "plt.figure()\n",
    "plt.plot(sol.t, sol.y[0], 'k-', linewidth=2)\n",
    "plt.xlabel(\"Time (ms)\")\n",
    "plt.ylabel(\"Membrane voltage (mV)\")\n",
    "plt.show()"
   ]
  },
  {
   "cell_type": "markdown",
   "metadata": {},
   "source": [
    "## Fitting (scipy.optimize.curve_fit)"
   ]
  },
  {
   "cell_type": "code",
   "execution_count": 35,
   "metadata": {},
   "outputs": [
    {
     "name": "stdout",
     "output_type": "stream",
     "text": [
      "popt= [2.55423706 1.35190947 0.47450618]\n"
     ]
    },
    {
     "data": {
      "image/png": "[encoded data removed]",
      "text/plain": [
       "<matplotlib.figure.Figure at 0x1fc52d5cc18>"
      ]
     },
     "metadata": {},
     "output_type": "display_data"
    }
   ],
   "source": [
    "\"\"\"\n",
    "Curve fitting from the scipy reference:\n",
    "https://docs.scipy.org/doc/scipy/reference/generated/scipy.optimize.curve_fit.html\n",
    "\"\"\"\n",
    "\n",
    "import numpy as np\n",
    "import matplotlib.pyplot as plt\n",
    "from scipy.optimize import curve_fit\n",
    "\n",
    "# Target function\n",
    "def func(x, a, b, c):\n",
    "    return a * np.exp(-b * x) + c\n",
    "\n",
    "# Define the data to be fit with some noise:\n",
    "xdata = np.linspace(0, 4, 50)\n",
    "y = func(xdata, 2.5, 1.3, 0.5)\n",
    "np.random.seed(1729)\n",
    "y_noise = 0.2 * np.random.normal(size=xdata.size)\n",
    "ydata = y + y_noise\n",
    "plt.plot(xdata, ydata, 'b-', label='data')  # 現在只管欣賞，等下祐德會教\n",
    "\n",
    "popt, pcov = curve_fit(func, xdata, ydata)\n",
    "print('popt=', popt)\n",
    "a, b, c = popt\n",
    "\n",
    "# 現在只管欣賞，等下祐德會教\n",
    "plt.plot(xdata, func(xdata, a, b, c), 'r--', label=f'fit: {a:5.3f}, {b:5.3f}, {c:5.3f}')\n",
    "plt.legend(loc='best')\n",
    "plt.show()"
   ]
  },
  {
   "cell_type": "code",
   "execution_count": null,
   "metadata": {},
   "outputs": [],
   "source": []
  }
 ],
 "metadata": {
  "kernelspec": {
   "display_name": "Python 3",
   "language": "python",
   "name": "python3"
  },
  "language_info": {
   "codemirror_mode": {
    "name": "ipython",
    "version": 3
   },
   "file_extension": ".py",
   "mimetype": "text/x-python",
   "name": "python",
   "nbconvert_exporter": "python",
   "pygments_lexer": "ipython3",
   "version": "3.6.4"
  }
 },
 "nbformat": 4,
 "nbformat_minor": 2
}
