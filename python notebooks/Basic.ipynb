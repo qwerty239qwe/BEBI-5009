{
 "cells": [
  {
   "cell_type": "markdown",
   "metadata": {},
   "source": [
    "## shortcuts\n",
    ">Command mode\n",
    "> - A: insert a new cell above the current cell\n",
    "> - B: insert a new cell below the current cell\n",
    "> - M: current cell => Markdown\n",
    "> - D + D: delete cell\n",
    "> - X: cut cell\n",
    "> - Ctrl + V: paste cell\n",
    "> - O: Toggle cell output\n",
    "> - Shift + J: select multiple cells\n",
    "> - Shift + M: merge multiple cells\n",
    "\n",
    "\n",
    ">Edit mode\n",
    "> - Shift + Tab: show Docstring\n",
    "> - Ctrl + Shift + -: split cell into two\n",
    "> - Ctrl + /:comment out"
   ]
  },
  {
   "cell_type": "code",
   "execution_count": null,
   "metadata": {},
   "outputs": [],
   "source": [
    "print(\"merge me\")\n",
    "\n",
    "var = \"plz\""
   ]
  },
  {
   "cell_type": "markdown",
   "metadata": {},
   "source": [
    "# Header1\n",
    "## Header2\n",
    "### Header3\n",
    "- list1\n",
    "- list2\n",
    "- list3\n",
    "\n",
    "* list4\n",
    "* list5\n",
    "\n",
    "*斜體*\n",
    "\n",
    "**粗體**\n",
    "\n",
    "content\n",
    "\n",
    "<table>\n",
    "    <tr>\n",
    "        <td>elem1</td>\n",
    "        <td>elem2</td>\n",
    "        <td>elem3</td>\n",
    "        <td>elem4</td>\n",
    "        <td>elem5</td>\n",
    "        <td>elem6</td>\n",
    "    </tr>\n",
    "    <tr>\n",
    "        <td>elem7</td>\n",
    "        <td>elem8</td>\n",
    "        <td>elem9</td>\n",
    "        <td>elem10</td>\n",
    "        <td>elem11</td>\n",
    "        <td>elem12</td>\n",
    "    </tr>\n",
    "    <tr>\n",
    "        <td>elem13</td>\n",
    "        <td>elem14</td>\n",
    "        <td>elem15</td>\n",
    "        <td>elem16</td>\n",
    "        <td>elem17</td>\n",
    "        <td>elem18</td>\n",
    "    </tr>\n",
    "</table>"
   ]
  },
  {
   "cell_type": "markdown",
   "metadata": {},
   "source": [
    "## 資料型態\n",
    ">數值(number)\n",
    "> - float\n",
    "> - integer\n",
    "> - complex"
   ]
  },
  {
   "cell_type": "code",
   "execution_count": 51,
   "metadata": {},
   "outputs": [
    {
     "name": "stdout",
     "output_type": "stream",
     "text": [
      "0.004\n"
     ]
    },
    {
     "data": {
      "text/plain": [
       "10000000000000000000000000000000000000000000000000000000000000000000000000000000000000000000000000000"
      ]
     },
     "execution_count": 51,
     "metadata": {},
     "output_type": "execute_result"
    }
   ],
   "source": [
    "769\n",
    "12.345\n",
    "print(4e-3)\n",
    "1+4j\n",
    "# 整數可以非常長\n",
    "int(10**100)"
   ]
  },
  {
   "cell_type": "markdown",
   "metadata": {},
   "source": [
    "## 資料型態(續)\n",
    ">容器(container)\n",
    "> - string\n",
    "> - tuple\n",
    "> - list\n",
    "> - dictionary\n",
    "> - set\n",
    "\n",
    ">布林(boolean)"
   ]
  },
  {
   "cell_type": "code",
   "execution_count": 32,
   "metadata": {},
   "outputs": [
    {
     "data": {
      "text/plain": [
       "True"
      ]
     },
     "execution_count": 32,
     "metadata": {},
     "output_type": "execute_result"
    }
   ],
   "source": [
    "# strings\n",
    "\"hello world\"\n",
    "\"\"\"\n",
    "hello\n",
    "world!\n",
    "\"\"\"\n",
    "# tuple\n",
    "(1,2,3)\n",
    "(\"s1\",\"s2\",3)\n",
    "# lists\n",
    "[1,2,3]\n",
    "[\"1\",\"2\",\"3\"]\n",
    "# dict\n",
    "{\"1\":\"One\",\"2\":\"Two\",3:[1,2,3]}\n",
    "# set\n",
    "{\"Amy\",\"Dinter\"}\n",
    "\n",
    "#boolean\n",
    "True,False"
   ]
  },
  {
   "cell_type": "markdown",
   "metadata": {},
   "source": [
    "## 運算子\n",
    "<table>\n",
    "<tr>\n",
    "<th style=\"width:10%\">Operator</th><th style=\"width:25%\">Description</th>\n",
    "</tr>\n",
    "<tr>\n",
    "<td>+,-,*,/</td>\n",
    "<td>加號,減號,乘號,除號</td>\n",
    "</tr>\n",
    "<tr>\n",
    "<td>+=,-=,*=,/=</td>\n",
    "<td>左值加(減/乘/除)上右值後取代原來的左值</td>\n",
    "</tr>\n",
    "<tr>\n",
    "<td>**</td>\n",
    "<td>次方</td>\n",
    "</tr>\n",
    "<tr>\n",
    "<td>//</td>\n",
    "<td>整數除法</td>\n",
    "</tr>\n",
    "<tr>\n",
    "<td>%</td>\n",
    "<td>取餘數</td>\n",
    "</tr>\n",
    "</table>"
   ]
  },
  {
   "cell_type": "code",
   "execution_count": null,
   "metadata": {},
   "outputs": [],
   "source": []
  },
  {
   "cell_type": "code",
   "execution_count": 54,
   "metadata": {},
   "outputs": [
    {
     "name": "stdout",
     "output_type": "stream",
     "text": [
      "0 0\n"
     ]
    }
   ],
   "source": [
    "a = 11\n",
    "b = 2\n",
    "c,d = -3,9\n",
    "e = f = 0\n",
    "print(e,f)\n",
    "\n",
    "print(a+b)\n",
    "# print(11+2*3)\n",
    "# print(a-b)\n",
    "# print(a*b)\n",
    "# print(a/b)\n",
    "# print(a//b)\n",
    "# print(a%b)"
   ]
  },
  {
   "cell_type": "code",
   "execution_count": 55,
   "metadata": {},
   "outputs": [
    {
     "name": "stdout",
     "output_type": "stream",
     "text": [
      "16\n",
      "3\n",
      "4.0\n"
     ]
    }
   ],
   "source": [
    "pow(2,4)\n",
    "print(abs(-16))\n",
    "print(round(3.14))\n",
    "\n",
    "import math\n",
    "\n",
    "print(math.sqrt(16))"
   ]
  },
  {
   "cell_type": "code",
   "execution_count": 57,
   "metadata": {},
   "outputs": [
    {
     "data": {
      "text/plain": [
       "'dictionary'"
      ]
     },
     "execution_count": 57,
     "metadata": {},
     "output_type": "execute_result"
    }
   ],
   "source": [
    "a = \"d\"\n",
    "b = \"ictionary\"\n",
    "c = a+b\n",
    "c\n",
    "# d = a*10\n",
    "# print(a+b,c,d,end=\"\\n\")\n",
    "# print(\"%s\"%(a+b))\n",
    "\n",
    "\n",
    "# a = \"test\"\n",
    "# print(\"{}\".format(a))"
   ]
  },
  {
   "cell_type": "code",
   "execution_count": null,
   "metadata": {},
   "outputs": [],
   "source": []
  },
  {
   "cell_type": "markdown",
   "metadata": {},
   "source": [
    "<table>\n",
    "<tr>\n",
    "<th style=\"width:10%\">Operator</th><th style=\"width:25%\">Description</th>\n",
    "</tr>\n",
    "<tr>\n",
    "<td>==</td>\n",
    "<td>兩者值相同，回傳True</td>\n",
    "</tr>\n",
    "<tr>\n",
    "<td>!=</td>\n",
    "<td>兩者值不同，回傳True</td>\n",
    "</tr>\n",
    "<tr>\n",
    "<td>&lt;&gt;</td>\n",
    "<td>兩者值相同，回傳True</td>\n",
    "</tr>\n",
    "<tr>\n",
    "<td>&gt;</td>\n",
    "<td>左值大於右值，回傳True</td>\n",
    "</tr>\n",
    "<tr>\n",
    "<td>&lt;</td>\n",
    "<td>左值小於右值，回傳True</td>\n",
    "</tr>\n",
    "<tr>\n",
    "<td>&gt;=</td>\n",
    "<td>左值大於等於右值，回傳True</td>\n",
    "</tr>\n",
    "<tr>\n",
    "<td>&lt;=</td>\n",
    "<td>左值小於等於右值，回傳True</td>\n",
    "</tr>\n",
    "</table>"
   ]
  },
  {
   "cell_type": "code",
   "execution_count": 58,
   "metadata": {},
   "outputs": [
    {
     "data": {
      "text/plain": [
       "True"
      ]
     },
     "execution_count": 58,
     "metadata": {},
     "output_type": "execute_result"
    }
   ],
   "source": [
    "3< 5 >4\n",
    "\n",
    "print(a>b)\n",
    "print(a == b)\n",
    "print(a != b)\n",
    "print(a is b)\n",
    "\n",
    "# print(type(a))\n",
    "\n",
    "# fn,sn = \"111\",\"111\"\n",
    "# print(fn+sn)\n",
    "# print(int(fn)+int(sn))"
   ]
  },
  {
   "cell_type": "markdown",
   "metadata": {},
   "source": [
    "## 容器(String, List, Dictionary, Tuple, Set)\n",
    "<table>\n",
    "<tr>\n",
    "<th style=\"width:10%\">String</th><th style=\"width:10%\">Tuple</th>\n",
    "<th style=\"width:10%\">List</th><th style=\"width:10%\">Dictionary</th>\n",
    "<th style=\"width:10%\">Set</th>\n",
    "</tr>\n",
    "<tr>\n",
    "<td>\"I'm string\"</td>\n",
    "<td>(1,2,3)</td>\n",
    "<td>[4,5,6]</td>\n",
    "<td>{\"key1\":1,\"key2\":2,\"key3\":3}</td>\n",
    "<td>{\"ele1\",\"ele2\",\"ele3\"}</td>\n",
    "</tr>\n",
    "<tr>\n",
    "<td>有序</td>\n",
    "<td>有序</td>\n",
    "<td>有序</td>\n",
    "<td>無序</td>\n",
    "<td>無序</td>\n",
    "</tr>\n",
    "<tr>\n",
    "<td>不可改</td>\n",
    "<td>不可改</td>\n",
    "<td>可改</td>\n",
    "<td>可改</td>\n",
    "<td>可改</td>\n",
    "</tr>\n",
    "</table>"
   ]
  },
  {
   "cell_type": "code",
   "execution_count": 44,
   "metadata": {},
   "outputs": [
    {
     "name": "stdout",
     "output_type": "stream",
     "text": [
      "[1, 2, 3, 4, 5, 6, 7, 8]\n",
      "1\n",
      "1 8\n",
      "[4, 5, 6, 7, 8] [1, 2, 3, 4, 5, 6] [1, 3, 5, 7]\n"
     ]
    }
   ],
   "source": [
    "lis = [1,2,3,4,5,6,7,8]\n",
    "print(lis)\n",
    "print(lis[0])\n",
    "print(lis[0],lis[-1])\n",
    "print(lis[3:],lis[:-2],lis[::2])"
   ]
  },
  {
   "cell_type": "code",
   "execution_count": 45,
   "metadata": {
    "scrolled": true
   },
   "outputs": [
    {
     "name": "stdout",
     "output_type": "stream",
     "text": [
      "[1, 2, 3, 4, 5, 6, 7, 8, 9]\n",
      "[1, 2, 3, 4, 5, 6, 7, 8, 9, 1, 2, 3, 4, 5, 6, 7, 8, 9]\n",
      "[1, 2, 3, 4, 5, 6, 7, 8, 1, 2, 3, 4, 5, 6, 7, 8, 9]\n",
      "[1, 'number4', 2, 3, 4, 5, 6, 7, 8, 1, 2, 3, 4, 5, 6, 7, 8, 9]\n",
      "1\n",
      "18\n"
     ]
    }
   ],
   "source": [
    "lis.append(9)\n",
    "print(lis)\n",
    "\n",
    "lis.extend(lis)\n",
    "print(lis)\n",
    "\n",
    "lis.remove(9)\n",
    "print(lis)\n",
    "\n",
    "lis.insert(1,\"number4\")\n",
    "print(lis)\n",
    "\n",
    "print(lis.index(\"number4\"))\n",
    "print(len(lis))"
   ]
  },
  {
   "cell_type": "code",
   "execution_count": 59,
   "metadata": {},
   "outputs": [
    {
     "name": "stdout",
     "output_type": "stream",
     "text": [
      "4\n",
      "1\n",
      "10\n"
     ]
    }
   ],
   "source": [
    "lis2 = [1,2,3,4]\n",
    "print(max(lis2))\n",
    "print(min(lis2))\n",
    "print(sum(lis2))"
   ]
  },
  {
   "cell_type": "code",
   "execution_count": 64,
   "metadata": {},
   "outputs": [
    {
     "name": "stdout",
     "output_type": "stream",
     "text": [
      "11\n",
      "[3, 2, 6, 7, 11, 33, 22]\n",
      "[7, 2, 6, 7, 11, 33, 22]\n"
     ]
    }
   ],
   "source": [
    "lis3 = [3,2,6,7,11,33,22,11]\n",
    "# lis4 = sorted(lis3)\n",
    "# print(lis4)\n",
    "# print(lis3)\n",
    "# lis3.sort()\n",
    "\n",
    "# print(lis3)\n",
    "# lis3.reverse()\n",
    "# print(lis3)\n",
    "\n",
    "# del lis3[0]\n",
    "# del lis3[lis3.index(3)]\n",
    "print(lis3.pop())\n",
    "print(lis3)\n",
    "lis3[0] = 7\n",
    "print(lis3)"
   ]
  },
  {
   "cell_type": "code",
   "execution_count": 29,
   "metadata": {},
   "outputs": [],
   "source": [
    "tup = (1,3,5,7,9)\n",
    "tup = (20,\"r\")\n",
    "tup[0]\n",
    "del tup\n",
    "# print(len(tup),max(tup),min(tup),sum(tup))"
   ]
  },
  {
   "cell_type": "code",
   "execution_count": 65,
   "metadata": {},
   "outputs": [
    {
     "name": "stdout",
     "output_type": "stream",
     "text": [
      "{'one': '1', 'two': '2', 'three': '3'}\n",
      "{'two': '2', 'three': '3', 'four': '4'}\n",
      "dict_keys(['two', 'three', 'four'])\n",
      "dict_values(['2', '3', '4'])\n",
      "dict_items([('two', '2'), ('three', '3'), ('four', '4')])\n"
     ]
    }
   ],
   "source": [
    "dic = {\"one\":\"1\",\"two\":\"2\",\"three\":\"3\"}\n",
    "dic[\"one\"]\n",
    "print(dic)\n",
    "del dic[\"one\"]\n",
    "dic[\"four\"] = \"4\"\n",
    "print(dic)\n",
    "print(dic.keys())\n",
    "print(dic.values())\n",
    "print(dic.items())"
   ]
  },
  {
   "cell_type": "code",
   "execution_count": 66,
   "metadata": {},
   "outputs": [
    {
     "name": "stdout",
     "output_type": "stream",
     "text": [
      "{'two': '2', 'three': '3'}\n",
      "{'two': '2', 'three': '3', 'four': '4'}\n"
     ]
    }
   ],
   "source": [
    "dic2 = dic.copy()\n",
    "del dic2[\"four\"]\n",
    "print(dic2)\n",
    "print(dic)"
   ]
  },
  {
   "cell_type": "markdown",
   "metadata": {},
   "source": [
    "## if else elif\n",
    "\n",
    ">if case1:\n",
    ">>perform action1\n",
    "\n",
    ">elif case2:\n",
    ">>perform action2\n",
    "\n",
    ">else: \n",
    ">>perform action 3"
   ]
  },
  {
   "cell_type": "code",
   "execution_count": 79,
   "metadata": {},
   "outputs": [
    {
     "name": "stdout",
     "output_type": "stream",
     "text": [
      "Welcome George!\n"
     ]
    }
   ],
   "source": [
    "person = 'George'\n",
    "\n",
    "if person == 'Sammy':\n",
    "    print('Welcome Sammy!')\n",
    "    print()\n",
    "elif person =='George':\n",
    "    print (\"Welcome George!\")\n",
    "else:\n",
    "    print (\"Welcome, what's your name?\") "
   ]
  },
  {
   "cell_type": "code",
   "execution_count": 69,
   "metadata": {
    "scrolled": true
   },
   "outputs": [
    {
     "name": "stdout",
     "output_type": "stream",
     "text": [
      "enter first number\n",
      "1\n",
      "enter second number\n",
      "2\n",
      "1 is not larger than 2\n"
     ]
    }
   ],
   "source": [
    "a = eval(input(\"enter first number\\n\")) \n",
    "b = eval(input(\"enter second number\\n\"))\n",
    "\n",
    "if a > b :\n",
    "    print(\"%d is larger than %d\"%(a,b))\n",
    "else :\n",
    "    print(\"{} is not larger than {}\".format(a,b))"
   ]
  },
  {
   "cell_type": "markdown",
   "metadata": {},
   "source": [
    "## while loop\n",
    "\n",
    ">while test:\n",
    "    >>code statement\n",
    "\n",
    ">else:\n",
    "    >>final code statements"
   ]
  },
  {
   "cell_type": "code",
   "execution_count": 5,
   "metadata": {},
   "outputs": [
    {
     "name": "stdout",
     "output_type": "stream",
     "text": [
      "0\n",
      "1\n",
      "2\n"
     ]
    }
   ],
   "source": [
    "a = 0\n",
    "while a < 3 :\n",
    "    print(a)\n",
    "    a += 1\n"
   ]
  },
  {
   "cell_type": "code",
   "execution_count": null,
   "metadata": {},
   "outputs": [],
   "source": [
    "while True :\n",
    "    ipt = input(\"輸入文字\")\n",
    "    if ipt == \"q\":\n",
    "        break\n",
    "        print(\"print nothing, loop break\")\n",
    "    elif ipt == \"c\":\n",
    "        continue\n",
    "        print(\"print nothing, loop continue\")\n",
    "    else:\n",
    "        print(\"{strn} has been printed\".format(strn=ipt))\n",
    "print(\"finished\")"
   ]
  },
  {
   "cell_type": "markdown",
   "metadata": {},
   "source": [
    "## For loop\n",
    "\n",
    ">for item in object:\n",
    "    >>statements to do stuff"
   ]
  },
  {
   "cell_type": "code",
   "execution_count": 70,
   "metadata": {},
   "outputs": [
    {
     "name": "stdout",
     "output_type": "stream",
     "text": [
      "0\n",
      "1\n",
      "2\n",
      "3\n",
      "4\n",
      "5\n",
      "6\n",
      "7\n",
      "8\n",
      "9\n",
      "10\n",
      "\n",
      "\n"
     ]
    }
   ],
   "source": [
    "for i in range(11):\n",
    "    print(i)\n",
    "print(\"\\n\")"
   ]
  },
  {
   "cell_type": "code",
   "execution_count": null,
   "metadata": {},
   "outputs": [],
   "source": [
    "for i in [1,2,3,4,5,6,7,8,9,10]:\n",
    "    print(i)"
   ]
  },
  {
   "cell_type": "code",
   "execution_count": null,
   "metadata": {},
   "outputs": [],
   "source": [
    "for i in range(1,11,2):\n",
    "    print(i)"
   ]
  },
  {
   "cell_type": "code",
   "execution_count": 71,
   "metadata": {},
   "outputs": [
    {
     "name": "stdout",
     "output_type": "stream",
     "text": [
      "key1 1\n",
      "key2 2\n",
      "key3 3\n"
     ]
    }
   ],
   "source": [
    "dic = {\"key1\":1,\"key2\":2,\"key3\":3}\n",
    "for k,v in dic.items():\n",
    "    print(k,v)"
   ]
  },
  {
   "cell_type": "code",
   "execution_count": 72,
   "metadata": {},
   "outputs": [
    {
     "name": "stdout",
     "output_type": "stream",
     "text": [
      "p y t h o n   t u t o r i a l \n"
     ]
    }
   ],
   "source": [
    "string = \"python tutorial\"\n",
    "for i in string:\n",
    "    print(i,end=\" \")\n",
    "print()"
   ]
  },
  {
   "cell_type": "code",
   "execution_count": 73,
   "metadata": {},
   "outputs": [
    {
     "name": "stdout",
     "output_type": "stream",
     "text": [
      "l a i r o t u t   n o h t y p "
     ]
    }
   ],
   "source": [
    "for i in range(len(string)-1,-1,-1):\n",
    "    print(string[i],end = \" \")"
   ]
  },
  {
   "cell_type": "code",
   "execution_count": 74,
   "metadata": {},
   "outputs": [
    {
     "name": "stdout",
     "output_type": "stream",
     "text": [
      "[2, 4, 6, 8]\n"
     ]
    }
   ],
   "source": [
    "evenNumber = [x for x in range(10) if x%2 == 0 and x != 0 ]\n",
    "print(evenNumber)"
   ]
  },
  {
   "cell_type": "code",
   "execution_count": 78,
   "metadata": {},
   "outputs": [
    {
     "name": "stdout",
     "output_type": "stream",
     "text": [
      "1 ['Peter', 80, 70, 60]\n",
      "2 ['Anna', 77, 55, 66]\n",
      "3 ['Steve', 22, 99, 88]\n"
     ]
    }
   ],
   "source": [
    "score = [[\"Peter\",80,70,60],[\"Anna\",77,55,66],[\"Steve\",22,99,88]]\n",
    "\n",
    "# for i in range(len(score)):\n",
    "#     for j in range(len(score[i])):\n",
    "#         print(score[i][j])\n",
    "        \n",
    "# for elem in score:\n",
    "#     for entry in elem:\n",
    "#         print(entry)\n",
    "        \n",
    "for i, elem in enumerate(score,start=1):\n",
    "    print(i,elem)"
   ]
  }
 ],
 "metadata": {
  "kernelspec": {
   "display_name": "Python 3",
   "language": "python",
   "name": "python3"
  },
  "language_info": {
   "codemirror_mode": {
    "name": "ipython",
    "version": 3
   },
   "file_extension": ".py",
   "mimetype": "text/x-python",
   "name": "python",
   "nbconvert_exporter": "python",
   "pygments_lexer": "ipython3",
   "version": "3.6.4"
  }
 },
 "nbformat": 4,
 "nbformat_minor": 2
}
